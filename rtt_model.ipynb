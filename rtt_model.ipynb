{
 "cells": [
  {
   "cell_type": "code",
   "execution_count": null,
   "id": "9b5cd777",
   "metadata": {},
   "outputs": [],
   "source": [
    "from mlbox.preprocessing import *\n",
    "from mlbox.optimisation import *\n",
    "from mlbox.prediction import *"
   ]
  },
  {
   "cell_type": "code",
   "execution_count": null,
   "id": "454bf00c",
   "metadata": {},
   "outputs": [],
   "source": [
    "paths = ['\\C:/Users/Roberto.Pecora/Documents/Xyla/XEC/Data/RTT/RTT-Overview-Timeseries-Covid19-52w-Sep21_since2003.csv','C:/Users/Roberto.Pecora/Documents/Xyla/XEC/Data/RTT/RTT-Overview-Timeseries-Covid19-predictors-Sep21_since2003.csv']\n",
    "target_name = 'No. > 52 weeks' #to modify\n",
    " \n",
    "\n",
    "#C:\\Users\\Roberto.Pecora\\Documents\\Xyla\\XEC\\Data\\RTT"
   ]
  },
  {
   "cell_type": "code",
   "execution_count": null,
   "id": "064fa862",
   "metadata": {},
   "outputs": [],
   "source": [
    "data = Reader(sep=\",\").train_test_split(paths, target_name)  #reading\n",
    "data = Drift_thresholder().fit_transform(data)  #deleting non-stable variables"
   ]
  },
  {
   "cell_type": "code",
   "execution_count": null,
   "id": "2ab6599e",
   "metadata": {},
   "outputs": [],
   "source": [
    "Optimiser().evaluate(None, data)"
   ]
  },
  {
   "cell_type": "code",
   "execution_count": null,
   "id": "344f6747",
   "metadata": {},
   "outputs": [],
   "source": [
    "Predictor().fit_predict(best, data)"
   ]
  },
  {
   "cell_type": "code",
   "execution_count": null,
   "id": "c411a008",
   "metadata": {},
   "outputs": [],
   "source": []
  }
 ],
 "metadata": {
  "kernelspec": {
   "display_name": "Python 3 (ipykernel)",
   "language": "python",
   "name": "python3"
  },
  "language_info": {
   "codemirror_mode": {
    "name": "ipython",
    "version": 3
   },
   "file_extension": ".py",
   "mimetype": "text/x-python",
   "name": "python",
   "nbconvert_exporter": "python",
   "pygments_lexer": "ipython3",
   "version": "3.7.11"
  }
 },
 "nbformat": 4,
 "nbformat_minor": 5
}
